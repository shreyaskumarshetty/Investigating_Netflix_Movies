{
 "cells": [
  {
   "cell_type": "markdown",
   "id": "b620f51a-a531-44c0-943e-b3d8df60e968",
   "metadata": {},
   "source": [
    "Performing exploratory data analysis on the netflix_data.csv data to understand more about movies from the 1990s decade."
   ]
  },
  {
   "cell_type": "code",
   "execution_count": 7,
   "id": "eee96996-c7d2-41d8-b257-bf82c267b375",
   "metadata": {},
   "outputs": [],
   "source": [
    "#importing pandas and matplotlib\n",
    "\n",
    "import pandas as pd\n",
    "import matplotlib.pyplot as plt"
   ]
  },
  {
   "cell_type": "code",
   "execution_count": 40,
   "id": "09c9ce37-72d2-4b48-ac54-ec6287bb504e",
   "metadata": {},
   "outputs": [],
   "source": [
    "#Reading the netflix_data.csv as a Dataframe\n",
    "\n",
    "df = pd.read_csv('netflix_data.csv')"
   ]
  },
  {
   "cell_type": "code",
   "execution_count": 42,
   "id": "741bf296-78f2-486b-8d7a-9bb39480413c",
   "metadata": {},
   "outputs": [
    {
     "data": {
      "text/plain": [
       "(4812, 11)"
      ]
     },
     "execution_count": 42,
     "metadata": {},
     "output_type": "execute_result"
    }
   ],
   "source": [
    "df.shape"
   ]
  },
  {
   "cell_type": "code",
   "execution_count": 44,
   "id": "32e4213f-7ad0-4beb-a758-d1f7ca45ba9b",
   "metadata": {},
   "outputs": [
    {
     "data": {
      "text/html": [
       "<div>\n",
       "<style scoped>\n",
       "    .dataframe tbody tr th:only-of-type {\n",
       "        vertical-align: middle;\n",
       "    }\n",
       "\n",
       "    .dataframe tbody tr th {\n",
       "        vertical-align: top;\n",
       "    }\n",
       "\n",
       "    .dataframe thead th {\n",
       "        text-align: right;\n",
       "    }\n",
       "</style>\n",
       "<table border=\"1\" class=\"dataframe\">\n",
       "  <thead>\n",
       "    <tr style=\"text-align: right;\">\n",
       "      <th></th>\n",
       "      <th>show_id</th>\n",
       "      <th>type</th>\n",
       "      <th>title</th>\n",
       "      <th>director</th>\n",
       "      <th>cast</th>\n",
       "      <th>country</th>\n",
       "      <th>date_added</th>\n",
       "      <th>release_year</th>\n",
       "      <th>duration</th>\n",
       "      <th>description</th>\n",
       "      <th>genre</th>\n",
       "    </tr>\n",
       "  </thead>\n",
       "  <tbody>\n",
       "    <tr>\n",
       "      <th>0</th>\n",
       "      <td>s2</td>\n",
       "      <td>Movie</td>\n",
       "      <td>7:19</td>\n",
       "      <td>Jorge Michel Grau</td>\n",
       "      <td>Demián Bichir, Héctor Bonilla, Oscar Serrano, ...</td>\n",
       "      <td>Mexico</td>\n",
       "      <td>December 23, 2016</td>\n",
       "      <td>2016</td>\n",
       "      <td>93</td>\n",
       "      <td>After a devastating earthquake hits Mexico Cit...</td>\n",
       "      <td>Dramas</td>\n",
       "    </tr>\n",
       "    <tr>\n",
       "      <th>1</th>\n",
       "      <td>s3</td>\n",
       "      <td>Movie</td>\n",
       "      <td>23:59</td>\n",
       "      <td>Gilbert Chan</td>\n",
       "      <td>Tedd Chan, Stella Chung, Henley Hii, Lawrence ...</td>\n",
       "      <td>Singapore</td>\n",
       "      <td>December 20, 2018</td>\n",
       "      <td>2011</td>\n",
       "      <td>78</td>\n",
       "      <td>When an army recruit is found dead, his fellow...</td>\n",
       "      <td>Horror Movies</td>\n",
       "    </tr>\n",
       "    <tr>\n",
       "      <th>2</th>\n",
       "      <td>s4</td>\n",
       "      <td>Movie</td>\n",
       "      <td>9</td>\n",
       "      <td>Shane Acker</td>\n",
       "      <td>Elijah Wood, John C. Reilly, Jennifer Connelly...</td>\n",
       "      <td>United States</td>\n",
       "      <td>November 16, 2017</td>\n",
       "      <td>2009</td>\n",
       "      <td>80</td>\n",
       "      <td>In a postapocalyptic world, rag-doll robots hi...</td>\n",
       "      <td>Action</td>\n",
       "    </tr>\n",
       "    <tr>\n",
       "      <th>3</th>\n",
       "      <td>s5</td>\n",
       "      <td>Movie</td>\n",
       "      <td>21</td>\n",
       "      <td>Robert Luketic</td>\n",
       "      <td>Jim Sturgess, Kevin Spacey, Kate Bosworth, Aar...</td>\n",
       "      <td>United States</td>\n",
       "      <td>January 1, 2020</td>\n",
       "      <td>2008</td>\n",
       "      <td>123</td>\n",
       "      <td>A brilliant group of students become card-coun...</td>\n",
       "      <td>Dramas</td>\n",
       "    </tr>\n",
       "    <tr>\n",
       "      <th>4</th>\n",
       "      <td>s6</td>\n",
       "      <td>TV Show</td>\n",
       "      <td>46</td>\n",
       "      <td>Serdar Akar</td>\n",
       "      <td>Erdal Beşikçioğlu, Yasemin Allen, Melis Birkan...</td>\n",
       "      <td>Turkey</td>\n",
       "      <td>July 1, 2017</td>\n",
       "      <td>2016</td>\n",
       "      <td>1</td>\n",
       "      <td>A genetics professor experiments with a treatm...</td>\n",
       "      <td>International TV</td>\n",
       "    </tr>\n",
       "  </tbody>\n",
       "</table>\n",
       "</div>"
      ],
      "text/plain": [
       "  show_id     type  title           director  \\\n",
       "0      s2    Movie   7:19  Jorge Michel Grau   \n",
       "1      s3    Movie  23:59       Gilbert Chan   \n",
       "2      s4    Movie      9        Shane Acker   \n",
       "3      s5    Movie     21     Robert Luketic   \n",
       "4      s6  TV Show     46        Serdar Akar   \n",
       "\n",
       "                                                cast        country  \\\n",
       "0  Demián Bichir, Héctor Bonilla, Oscar Serrano, ...         Mexico   \n",
       "1  Tedd Chan, Stella Chung, Henley Hii, Lawrence ...      Singapore   \n",
       "2  Elijah Wood, John C. Reilly, Jennifer Connelly...  United States   \n",
       "3  Jim Sturgess, Kevin Spacey, Kate Bosworth, Aar...  United States   \n",
       "4  Erdal Beşikçioğlu, Yasemin Allen, Melis Birkan...         Turkey   \n",
       "\n",
       "          date_added  release_year  duration  \\\n",
       "0  December 23, 2016          2016        93   \n",
       "1  December 20, 2018          2011        78   \n",
       "2  November 16, 2017          2009        80   \n",
       "3    January 1, 2020          2008       123   \n",
       "4       July 1, 2017          2016         1   \n",
       "\n",
       "                                         description             genre  \n",
       "0  After a devastating earthquake hits Mexico Cit...            Dramas  \n",
       "1  When an army recruit is found dead, his fellow...     Horror Movies  \n",
       "2  In a postapocalyptic world, rag-doll robots hi...            Action  \n",
       "3  A brilliant group of students become card-coun...            Dramas  \n",
       "4  A genetics professor experiments with a treatm...  International TV  "
      ]
     },
     "execution_count": 44,
     "metadata": {},
     "output_type": "execute_result"
    }
   ],
   "source": [
    "#Viewing the first 5 rows of the table\n",
    "df.head()"
   ]
  },
  {
   "cell_type": "code",
   "execution_count": 46,
   "id": "4fec91e7-23fa-4db5-8c8e-0291654acb7d",
   "metadata": {},
   "outputs": [
    {
     "name": "stdout",
     "output_type": "stream",
     "text": [
      "<class 'pandas.core.frame.DataFrame'>\n",
      "RangeIndex: 4812 entries, 0 to 4811\n",
      "Data columns (total 11 columns):\n",
      " #   Column        Non-Null Count  Dtype \n",
      "---  ------        --------------  ----- \n",
      " 0   show_id       4812 non-null   object\n",
      " 1   type          4812 non-null   object\n",
      " 2   title         4812 non-null   object\n",
      " 3   director      4812 non-null   object\n",
      " 4   cast          4812 non-null   object\n",
      " 5   country       4812 non-null   object\n",
      " 6   date_added    4812 non-null   object\n",
      " 7   release_year  4812 non-null   int64 \n",
      " 8   duration      4812 non-null   int64 \n",
      " 9   description   4812 non-null   object\n",
      " 10  genre         4812 non-null   object\n",
      "dtypes: int64(2), object(9)\n",
      "memory usage: 413.7+ KB\n"
     ]
    }
   ],
   "source": [
    "#Having an overview of the data\n",
    "df.info()"
   ]
  },
  {
   "cell_type": "markdown",
   "id": "f34cfbae-7b61-4ffd-8dfb-ccb59a97ca18",
   "metadata": {},
   "source": [
    "The dataframe has 11 columns, there are no null values and the target columns are in the right data format"
   ]
  },
  {
   "cell_type": "code",
   "execution_count": 48,
   "id": "13c01ff9-7606-4059-8078-6333151bbab9",
   "metadata": {},
   "outputs": [
    {
     "data": {
      "text/plain": [
       "0"
      ]
     },
     "execution_count": 48,
     "metadata": {},
     "output_type": "execute_result"
    }
   ],
   "source": [
    "#Checking for duplicate values/entries\n",
    "df.duplicated().sum()"
   ]
  },
  {
   "cell_type": "markdown",
   "id": "9a244b5b-030f-4b72-bfbf-9a494d797c27",
   "metadata": {},
   "source": [
    "The dataframe has no duplicate values"
   ]
  },
  {
   "cell_type": "markdown",
   "id": "ae880a76-bc84-4ca5-8f95-9eff2c3fce9b",
   "metadata": {},
   "source": [
    "Subsetting the data"
   ]
  },
  {
   "cell_type": "code",
   "execution_count": 54,
   "id": "f25a4c3a-6318-4db4-9e99-5a643b978ecc",
   "metadata": {},
   "outputs": [
    {
     "data": {
      "text/plain": [
       "release_year\n",
       "1997    26\n",
       "1998    26\n",
       "1999    26\n",
       "1993    16\n",
       "1995    16\n",
       "1992    16\n",
       "1996    15\n",
       "1990    15\n",
       "1991    14\n",
       "1994    14\n",
       "Name: count, dtype: int64"
      ]
     },
     "execution_count": 54,
     "metadata": {},
     "output_type": "execute_result"
    }
   ],
   "source": [
    "#Subsetting the dataframe to isolate movies released in the 1990s\n",
    "subset = df[\"release_year\"].between(1990,1999)\n",
    "df = df[subset]\n",
    "df[\"release_year\"].value_counts()"
   ]
  },
  {
   "cell_type": "code",
   "execution_count": 58,
   "id": "045f2b54-1c36-4ac3-a38a-9a2946d71ac4",
   "metadata": {},
   "outputs": [
    {
     "data": {
      "image/png": "[encoded data removed]",
      "text/plain": [
       "<Figure size 640x480 with 1 Axes>"
      ]
     },
     "metadata": {},
     "output_type": "display_data"
    }
   ],
   "source": [
    "#Creating an histogram to visualize the count of movies released in the 1990s\n",
    "plt.hist(df[\"release_year\"])\n",
    "plt.xlabel(\"Year\")\n",
    "plt.ylabel(\"Count of Movies\")\n",
    "plt.title(\"Distribution of Movies Released in the 1990s\")\n",
    "plt.show();"
   ]
  },
  {
   "cell_type": "markdown",
   "id": "2b9a888b-d0e9-4dfa-be3b-d1b235724020",
   "metadata": {},
   "source": [
    "Netflix featured a higher proportion of movies premiered in the late 1990s than those released in the early and mid 1990s"
   ]
  },
  {
   "cell_type": "markdown",
   "id": "4be2a62c-ac95-4fae-9f4d-bdc26a455d1d",
   "metadata": {},
   "source": [
    "Question 1:\n",
    "\n",
    "What was the most frequent movie duration in the 1990s? Save an approximate answer as an integer called duration."
   ]
  },
  {
   "cell_type": "code",
   "execution_count": 69,
   "id": "486df679-273f-4738-a677-853b1ba84abe",
   "metadata": {},
   "outputs": [
    {
     "data": {
      "text/plain": [
       "duration\n",
       "94     7\n",
       "101    6\n",
       "95     5\n",
       "93     5\n",
       "108    5\n",
       "      ..\n",
       "97     1\n",
       "185    1\n",
       "109    1\n",
       "79     1\n",
       "191    1\n",
       "Name: count, Length: 92, dtype: int64"
      ]
     },
     "execution_count": 69,
     "metadata": {},
     "output_type": "execute_result"
    }
   ],
   "source": [
    "df[\"duration\"].value_counts()"
   ]
  },
  {
   "cell_type": "code",
   "execution_count": 78,
   "id": "40de6a32-67eb-4b3c-b933-e461d6289fca",
   "metadata": {},
   "outputs": [
    {
     "data": {
      "text/plain": [
       "94"
      ]
     },
     "execution_count": 78,
     "metadata": {},
     "output_type": "execute_result"
    }
   ],
   "source": [
    "#Using the \"mode\" in built statistics function to deduce the most frequent movies\n",
    "duration = df[\"duration\"].mode().sum()\n",
    "duration"
   ]
  },
  {
   "cell_type": "markdown",
   "id": "1a779cce-1650-4b03-8911-3e4b4de294a6",
   "metadata": {},
   "source": [
    "The most frequent movie duration in the 1990s is 94 minutes"
   ]
  },
  {
   "cell_type": "code",
   "execution_count": 84,
   "id": "cda9d6dd-6ce4-4a8c-948d-75dc5c0e924b",
   "metadata": {},
   "outputs": [
    {
     "data": {
      "text/plain": [
       "dtype('int64')"
      ]
     },
     "execution_count": 84,
     "metadata": {},
     "output_type": "execute_result"
    }
   ],
   "source": [
    "#Confirming the datatype of the variable name \"duration\"\n",
    "duration.dtype"
   ]
  },
  {
   "cell_type": "markdown",
   "id": "232bfdf4-3917-46db-a3b1-e2ef10c80d67",
   "metadata": {},
   "source": [
    "Question 2:\n",
    "\n",
    "A movie is considered short if it is less than 90 minutes. Count the number of short action movies released in the 1990s\n",
    "and save this integer as short_movie_count"
   ]
  },
  {
   "cell_type": "code",
   "execution_count": 87,
   "id": "ba800a24-b022-435f-81d3-6b5661396be7",
   "metadata": {},
   "outputs": [
    {
     "data": {
      "text/plain": [
       "genre\n",
       "Action            48\n",
       "Dramas            44\n",
       "Comedies          40\n",
       "Children          15\n",
       "Classic Movies    15\n",
       "Stand-Up           8\n",
       "Thrillers          5\n",
       "Horror Movies      4\n",
       "Documentaries      2\n",
       "Cult Movies        2\n",
       "Docuseries         1\n",
       "Name: count, dtype: int64"
      ]
     },
     "execution_count": 87,
     "metadata": {},
     "output_type": "execute_result"
    }
   ],
   "source": [
    "#Checking out the different genresof movies released in 1990s\n",
    "df[\"genre\"].value_counts()"
   ]
  },
  {
   "cell_type": "code",
   "execution_count": 95,
   "id": "9940b98d-a08f-4a8f-a75b-c029567559d7",
   "metadata": {},
   "outputs": [
    {
     "data": {
      "image/png": "[encoded data removed]",
      "text/plain": [
       "<Figure size 1600x800 with 1 Axes>"
      ]
     },
     "metadata": {},
     "output_type": "display_data"
    }
   ],
   "source": [
    "#Creating a bar plot to visualize the genres of movies released in the 19990s\n",
    "df[\"genre\"].value_counts().plot(kind=\"bar\", figsize=(16,8), rot=0)\n",
    "plt.xlabel(\"Movie Genre\")\n",
    "plt.ylabel(\"Count of Movies\")\n",
    "plt.title(\"Genres of Movies Released in the 1990s\");"
   ]
  },
  {
   "cell_type": "markdown",
   "id": "3a2ba9da-c330-40d6-bcd6-8c02480b08b4",
   "metadata": {},
   "source": [
    "Subsetting the short action movies with duration less than 90 minutes"
   ]
  },
  {
   "cell_type": "code",
   "execution_count": 102,
   "id": "9ad1e568-c8f4-4f98-b7ca-9157af68664a",
   "metadata": {},
   "outputs": [
    {
     "data": {
      "text/plain": [
       "6       False\n",
       "118     False\n",
       "145     False\n",
       "167     False\n",
       "194     False\n",
       "        ...  \n",
       "4672    False\n",
       "4689    False\n",
       "4718    False\n",
       "4746    False\n",
       "4756    False\n",
       "Length: 184, dtype: bool"
      ]
     },
     "execution_count": 102,
     "metadata": {},
     "output_type": "execute_result"
    }
   ],
   "source": [
    "short_action_movies = (df[\"genre\"] == \"Action\") & (df[\"duration\"] < 90)\n",
    "short_action_movies"
   ]
  },
  {
   "cell_type": "code",
   "execution_count": 108,
   "id": "8be9d79c-ac37-4ff9-83a6-18e9a2af2536",
   "metadata": {},
   "outputs": [
    {
     "data": {
      "text/plain": [
       "7"
      ]
     },
     "execution_count": 108,
     "metadata": {},
     "output_type": "execute_result"
    }
   ],
   "source": [
    "#Obtaining the total count of movies with short duration\n",
    "short_movie_count = short_action_movies.sum()\n",
    "short_movie_count"
   ]
  },
  {
   "cell_type": "markdown",
   "id": "db72dcfa-e6d7-45d8-a8d0-5324184acf9d",
   "metadata": {},
   "source": [
    "On Netflix, there are only 7 short Action movies that were premiered in the 1990s"
   ]
  },
  {
   "cell_type": "code",
   "execution_count": null,
   "id": "e9c5ef6d-85b5-44a7-9c3b-5e6a8a1a2ff5",
   "metadata": {},
   "outputs": [],
   "source": []
  }
 ],
 "metadata": {
  "kernelspec": {
   "display_name": "Python [conda env:base] *",
   "language": "python",
   "name": "conda-base-py"
  },
  "language_info": {
   "codemirror_mode": {
    "name": "ipython",
    "version": 3
   },
   "file_extension": ".py",
   "mimetype": "text/x-python",
   "name": "python",
   "nbconvert_exporter": "python",
   "pygments_lexer": "ipython3",
   "version": "3.12.7"
  }
 },
 "nbformat": 4,
 "nbformat_minor": 5
}
